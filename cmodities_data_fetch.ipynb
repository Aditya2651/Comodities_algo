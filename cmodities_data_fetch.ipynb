{
 "cells": [
  {
   "cell_type": "code",
   "execution_count": 6,
   "metadata": {},
   "outputs": [],
   "source": [
    "from fyers_apiv3 import fyersModel\n",
    "import datetime\n",
    "import pandas as pd\n",
    "import pyarrow as pa\n",
    "import pyarrow.parquet as pq\n",
    "import os\n",
    "import time\n",
    "import webbrowser"
   ]
  },
  {
   "cell_type": "code",
   "execution_count": 7,
   "metadata": {},
   "outputs": [],
   "source": [
    "redirect_uri= \"http://127.0.0.1/\"  ## redircet_uri you entered while creating APP.\n",
    "client_id = \"3X7SR79UGM-100\"                       ## Client_id here refers to APP_ID of the created app\n",
    "secret_key = \"J65IM8KPYS\"                          ## app_secret key which you got after creating the app \n",
    "grant_type = \"authorization_code\"                  ## The grant_type always has to be \"authorization_code\"\n",
    "response_type = \"code\"                             ## The response_type always has to be \"code\"\n",
    "state = \"sample\" ##  The state field here acts as a session manager. you will be sent with the state field after successfull generation of auth_code "
   ]
  },
  {
   "cell_type": "code",
   "execution_count": 8,
   "metadata": {},
   "outputs": [],
   "source": [
    "### Connect to the sessionModel object here with the required input parameters\n",
    "appSession = fyersModel.SessionModel(client_id = client_id, redirect_uri = redirect_uri,response_type=response_type,state=state,secret_key=secret_key,grant_type=grant_type)"
   ]
  },
  {
   "cell_type": "code",
   "execution_count": 9,
   "metadata": {},
   "outputs": [
    {
     "name": "stdout",
     "output_type": "stream",
     "text": [
      "https://api-t1.fyers.in/api/v3/generate-authcode?client_id=3X7SR79UGM-100&redirect_uri=http%3A%2F%2F127.0.0.1%2F&response_type=code&state=sample\n"
     ]
    },
    {
     "data": {
      "text/plain": [
       "True"
      ]
     },
     "execution_count": 9,
     "metadata": {},
     "output_type": "execute_result"
    }
   ],
   "source": [
    "# ## Make  a request to generate_authcode object this will return a login url which you need to open in your browser from where you can get the generated auth_code \n",
    "generateTokenUrl = appSession.generate_authcode()\n",
    "print((generateTokenUrl))  \n",
    "webbrowser.open(generateTokenUrl,new=1)"
   ]
  },
  {
   "cell_type": "code",
   "execution_count": 10,
   "metadata": {},
   "outputs": [],
   "source": [
    "auth_code = \"eyJ0eXAiOiJKV1QiLCJhbGciOiJIUzI1NiJ9.eyJpc3MiOiJhcGkubG9naW4uZnllcnMuaW4iLCJpYXQiOjE3MzQwMjc5MTQsImV4cCI6MTczNDA1NzkxNCwibmJmIjoxNzM0MDI3MzE0LCJhdWQiOiJbXCJ4OjBcIiwgXCJ4OjFcIiwgXCJ4OjJcIiwgXCJkOjFcIiwgXCJkOjJcIiwgXCJ4OjFcIiwgXCJ4OjBcIl0iLCJzdWIiOiJhdXRoX2NvZGUiLCJkaXNwbGF5X25hbWUiOiJZQTMxNDE4Iiwib21zIjoiSzEiLCJoc21fa2V5IjoiMWQyYmU0MTE4OGM5YjkwNjAwYWRhNWE1OWE4NTU1MmQwMzJjNTdmNDNlYjQ1MTk3NTg4N2Q1MGIiLCJub25jZSI6IiIsImFwcF9pZCI6IjNYN1NSNzlVR00iLCJ1dWlkIjoiZjJjZDQxZmYyOThmNGFhN2I4MzAyYjA5YjdiNzM4MjEiLCJpcEFkZHIiOiIwLjAuMC4wIiwic2NvcGUiOiIifQ.Dif14a4HK20ADdYQNmzxelILY7WHMmShjcv7oLOnyKk\"\n",
    "appSession.set_token(auth_code)\n",
    "response = appSession.generate_token()"
   ]
  },
  {
   "cell_type": "code",
   "execution_count": 11,
   "metadata": {},
   "outputs": [
    {
     "data": {
      "text/plain": [
       "'eyJ0eXAiOiJKV1QiLCJhbGciOiJIUzI1NiJ9.eyJpc3MiOiJhcGkuZnllcnMuaW4iLCJpYXQiOjE3MzQwMjc5NDAsImV4cCI6MTczNDA0OTg0MCwibmJmIjoxNzM0MDI3OTQwLCJhdWQiOlsieDowIiwieDoxIiwieDoyIiwiZDoxIiwiZDoyIiwieDoxIiwieDowIl0sInN1YiI6ImFjY2Vzc190b2tlbiIsImF0X2hhc2giOiJnQUFBQUFCbld5cWt0RUZhWnQ3bnRPbWdXajY2TmZXNkRmaWRRRjJ1S21Bb2NXd2o3T0MzT2hSY19uOV9zbXVrNlhxeXRWdnN5NUdRWXVVQl9SVUlCR1FpT3dWVUpxNHV6eDJnUkxaYV9TUDVaNlhUNXlIekpnVT0iLCJkaXNwbGF5X25hbWUiOiJBRElUWUEgRElYSVQiLCJvbXMiOiJLMSIsImhzbV9rZXkiOiIxZDJiZTQxMTg4YzliOTA2MDBhZGE1YTU5YTg1NTUyZDAzMmM1N2Y0M2ViNDUxOTc1ODg3ZDUwYiIsImZ5X2lkIjoiWUEzMTQxOCIsImFwcFR5cGUiOjEwMCwicG9hX2ZsYWciOiJOIn0.hRY_bCYuvwnpHko7G4i6XZszAF0-SVjeopP3FCAa1CE'"
      ]
     },
     "execution_count": 11,
     "metadata": {},
     "output_type": "execute_result"
    }
   ],
   "source": [
    "access_token = response[\"access_token\"]\n",
    "access_token"
   ]
  },
  {
   "cell_type": "code",
   "execution_count": 12,
   "metadata": {},
   "outputs": [],
   "source": [
    "access_token =\"eyJ0eXAiOiJKV1QiLCJhbGciOiJIUzI1NiJ9.eyJpc3MiOiJhcGkuZnllcnMuaW4iLCJpYXQiOjE3MzQwMjc5NDAsImV4cCI6MTczNDA0OTg0MCwibmJmIjoxNzM0MDI3OTQwLCJhdWQiOlsieDowIiwieDoxIiwieDoyIiwiZDoxIiwiZDoyIiwieDoxIiwieDowIl0sInN1YiI6ImFjY2Vzc190b2tlbiIsImF0X2hhc2giOiJnQUFBQUFCbld5cWt0RUZhWnQ3bnRPbWdXajY2TmZXNkRmaWRRRjJ1S21Bb2NXd2o3T0MzT2hSY19uOV9zbXVrNlhxeXRWdnN5NUdRWXVVQl9SVUlCR1FpT3dWVUpxNHV6eDJnUkxaYV9TUDVaNlhUNXlIekpnVT0iLCJkaXNwbGF5X25hbWUiOiJBRElUWUEgRElYSVQiLCJvbXMiOiJLMSIsImhzbV9rZXkiOiIxZDJiZTQxMTg4YzliOTA2MDBhZGE1YTU5YTg1NTUyZDAzMmM1N2Y0M2ViNDUxOTc1ODg3ZDUwYiIsImZ5X2lkIjoiWUEzMTQxOCIsImFwcFR5cGUiOjEwMCwicG9hX2ZsYWciOiJOIn0.hRY_bCYuvwnpHko7G4i6XZszAF0-SVjeopP3FCAa1CE\""
   ]
  },
  {
   "cell_type": "code",
   "execution_count": 13,
   "metadata": {},
   "outputs": [
    {
     "data": {
      "text/plain": [
       "'eyJ0eXAiOiJKV1QiLCJhbGciOiJIUzI1NiJ9.eyJpc3MiOiJhcGkuZnllcnMuaW4iLCJpYXQiOjE3MzQwMjc5NDAsImV4cCI6MTczNDA0OTg0MCwibmJmIjoxNzM0MDI3OTQwLCJhdWQiOlsieDowIiwieDoxIiwieDoyIiwiZDoxIiwiZDoyIiwieDoxIiwieDowIl0sInN1YiI6ImFjY2Vzc190b2tlbiIsImF0X2hhc2giOiJnQUFBQUFCbld5cWt0RUZhWnQ3bnRPbWdXajY2TmZXNkRmaWRRRjJ1S21Bb2NXd2o3T0MzT2hSY19uOV9zbXVrNlhxeXRWdnN5NUdRWXVVQl9SVUlCR1FpT3dWVUpxNHV6eDJnUkxaYV9TUDVaNlhUNXlIekpnVT0iLCJkaXNwbGF5X25hbWUiOiJBRElUWUEgRElYSVQiLCJvbXMiOiJLMSIsImhzbV9rZXkiOiIxZDJiZTQxMTg4YzliOTA2MDBhZGE1YTU5YTg1NTUyZDAzMmM1N2Y0M2ViNDUxOTc1ODg3ZDUwYiIsImZ5X2lkIjoiWUEzMTQxOCIsImFwcFR5cGUiOjEwMCwicG9hX2ZsYWciOiJOIn0.hRY_bCYuvwnpHko7G4i6XZszAF0-SVjeopP3FCAa1CE'"
      ]
     },
     "execution_count": 13,
     "metadata": {},
     "output_type": "execute_result"
    }
   ],
   "source": [
    "access_token"
   ]
  },
  {
   "cell_type": "code",
   "execution_count": 14,
   "metadata": {},
   "outputs": [],
   "source": [
    "def epoch_to_ist(epoch_time):\n",
    "    dt = pd.to_datetime(epoch_time, unit='s')\n",
    "    dt = dt + datetime.timedelta(hours=5, minutes=30)\n",
    "    return dt.dt.tz_localize(None).dt.strftime('%Y-%m-%d %H:%M:%S %Z')"
   ]
  },
  {
   "cell_type": "code",
   "execution_count": 23,
   "metadata": {},
   "outputs": [],
   "source": [
    "def datafetch_cmdties(fyers,range_from,range_to,prdNam,interval = \"5\"):\n",
    "    data = {\n",
    "       \"symbol\": \"MCX:\"+prdNam+\"FUT\",\n",
    "        \"resolution\":interval,\n",
    "       \"date_format\":\"1\",\n",
    "       \"range_from\":range_from.strftime('%Y-%m-%d') ,\n",
    "       \"range_to\":range_to.strftime(\"%Y-%m-%d\"),\n",
    "        \"cont_flag\":\"1\"\n",
    "    }\n",
    "    response = fyers.history(data=data)\n",
    "    column_names = [\"Timestamp\", \"Open\", \"High\",\"Low\",\"Close\",\"Volume\"]\n",
    "    df = pd.DataFrame(response['candles'], columns=column_names)\n",
    "    df['Timestamp'] = epoch_to_ist(df['Timestamp'])\n",
    "    df = df.drop_duplicates(subset=\"Timestamp\")\n",
    "    return df"
   ]
  },
  {
   "cell_type": "code",
   "execution_count": 24,
   "metadata": {},
   "outputs": [
    {
     "name": "stdout",
     "output_type": "stream",
     "text": [
      "2024-09-04\n",
      "2024-12-13\n"
     ]
    }
   ],
   "source": [
    "fyers = fyersModel.FyersModel(client_id=client_id, is_async=False, token=access_token, log_path=\"\")\n",
    "range_from = datetime.date.today() - datetime.timedelta(100)\n",
    "range_to = datetime.date.today() - datetime.timedelta(0)\n",
    "print(range_from)\n",
    "print(range_to)"
   ]
  },
  {
   "cell_type": "code",
   "execution_count": 26,
   "metadata": {},
   "outputs": [],
   "source": [
    "\n",
    "path = \"D:/SWING/COMMODITIES_DATA/ohlc_5min/\"\n",
    "cmpDat =['SILVERM25FEB','SILVER25MAR','NATGASMINI24DEC','CRUDEOIL24DEC','NATURALGAS24DEC','SILVERMIC25FEB','CRUDEOILM24DEC']\n",
    "prod= ['SILVERM','SILVER','NATGASMINI','CRUDEOIL','NATURALGAS','SILVERMIC','CRUDEOILM']\n",
    "mth_code =['G25','H25','Z24','Z24','Z24','G25','Z24']"
   ]
  },
  {
   "cell_type": "code",
   "execution_count": 27,
   "metadata": {},
   "outputs": [
    {
     "name": "stdout",
     "output_type": "stream",
     "text": [
      "Processing: 0\n",
      "Processing: 1\n",
      "Processing: 2\n",
      "Processing: 3\n",
      "Processing: 4\n",
      "Processing: 5\n",
      "Processing: 6\n"
     ]
    }
   ],
   "source": [
    "for i in range(len(cmpDat)):\n",
    "    try:\n",
    "        print(f\"Processing: {i}\")\n",
    "        time.sleep(1)\n",
    "\n",
    "        prd = cmpDat[i]\n",
    "        instrument = prod[i]\n",
    "        contract = mth_code[i]\n",
    "\n",
    "        # Fetch data\n",
    "        df = datafetch_cmdties(fyers, range_from, range_to, prd, \"5\")\n",
    "\n",
    "        # Check if the parquet file exists\n",
    "        file_path = os.path.join(path, f\"{instrument}{contract}.parquet\")\n",
    "        if os.path.isfile(file_path):\n",
    "            extDat = pd.read_parquet(file_path)\n",
    "            # Concatenate and remove duplicates\n",
    "            df = pd.concat([df, extDat], ignore_index=True)\n",
    "            df = df.drop_duplicates(subset=\"Timestamp\")\n",
    "        df = df.sort_values(by=\"Timestamp\", ascending=False)\n",
    "        # Convert to Arrow Table and save as Parquet\n",
    "        arrow_table = pa.Table.from_pandas(df)\n",
    "        pq.write_table(arrow_table, file_path)\n",
    "    \n",
    "    except Exception as e:\n",
    "        print(f\"Error processing {i}: {e}\")"
   ]
  },
  {
   "cell_type": "code",
   "execution_count": 28,
   "metadata": {},
   "outputs": [],
   "source": [
    "new_df = pd.read_parquet(path+'SILVERMG25.parquet')"
   ]
  }
 ],
 "metadata": {
  "kernelspec": {
   "display_name": "Python 3",
   "language": "python",
   "name": "python3"
  },
  "language_info": {
   "codemirror_mode": {
    "name": "ipython",
    "version": 3
   },
   "file_extension": ".py",
   "mimetype": "text/x-python",
   "name": "python",
   "nbconvert_exporter": "python",
   "pygments_lexer": "ipython3",
   "version": "3.11.4"
  }
 },
 "nbformat": 4,
 "nbformat_minor": 2
}
